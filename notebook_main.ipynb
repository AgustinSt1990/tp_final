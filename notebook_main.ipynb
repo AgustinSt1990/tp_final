{
 "cells": [
  {
   "cell_type": "markdown",
   "id": "68c8249e",
   "metadata": {},
   "source": [
    "# Implementación de modelos de ensambles, balanceo de clases y feature importance\n",
    "\n",
    "Creación de documento: 3 de mayo de 2022\n",
    "\n",
    "\n",
    "<u>***Información sobre los datasets***</u>:\n",
    "\n",
    "- dataux: un dataset a elección que trasciende las secciones. *Sacramentorealestatetransactions.csv* es un dataset de bienes raíces. O *customer_transaction_data* dataset de la clase 11.\n",
    "- data: dataset propuesto por los distintos desafíos en el contenido de Digital House\n",
    "\n",
    "<u>***Propuesta de trabajo***</u>:\n",
    "\n",
    "- Crear una notebook cuyo código desarrollado esté descripto a través de logging y cuya evolución en su proceso quede debidamente registrado en GitHub\n",
    "- Las librerías estandar se importan al comienzo del código, mientras que las específicas a cada modelo se hará de forma previa a ser implementadas\n",
    "\n",
    "<u>***Propuesta de trabajo***</u>:\n"
   ]
  },
  {
   "cell_type": "code",
   "execution_count": 1,
   "id": "4a14bd9b",
   "metadata": {},
   "outputs": [
    {
     "name": "stdout",
     "output_type": "stream",
     "text": [
      "C:\\Users\\aguST\\dh\\Clases\\C44-TP_FINAL\n"
     ]
    }
   ],
   "source": [
    "import numpy as np\n",
    "import pandas as pd\n",
    "import seaborn as sns\n",
    "import matplotlib.pyplot as plt\n",
    "%matplotlib inline\n",
    "\n",
    "import sklearn.metrics as metrics\n",
    "\n",
    "import os\n",
    "import logging\n",
    "\n",
    "path = os.getcwd()\n",
    "print (path)\n",
    "\n",
    "x = 'x'\n",
    "formatter = f'{x+x}) %(levelname)s | %(message)s'#| line %(lineno)d\n",
    "logging.basicConfig(filename='logfile.log', level=logging.INFO, force=True, filemode='w', **{'format':formatter})\n",
    "logger = logging.getLogger()"
   ]
  },
  {
   "cell_type": "code",
   "execution_count": 2,
   "id": "8269e766",
   "metadata": {},
   "outputs": [],
   "source": [
    "logger.info('Se carga dataux')"
   ]
  },
  {
   "cell_type": "code",
   "execution_count": 3,
   "id": "8d869245",
   "metadata": {},
   "outputs": [
    {
     "name": "stdout",
     "output_type": "stream",
     "text": [
      "Todos los registros perteneces al mismo \"state\": California\n"
     ]
    },
    {
     "data": {
      "text/html": [
       "<div>\n",
       "<style scoped>\n",
       "    .dataframe tbody tr th:only-of-type {\n",
       "        vertical-align: middle;\n",
       "    }\n",
       "\n",
       "    .dataframe tbody tr th {\n",
       "        vertical-align: top;\n",
       "    }\n",
       "\n",
       "    .dataframe thead th {\n",
       "        text-align: right;\n",
       "    }\n",
       "</style>\n",
       "<table border=\"1\" class=\"dataframe\">\n",
       "  <thead>\n",
       "    <tr style=\"text-align: right;\">\n",
       "      <th></th>\n",
       "      <th>calle</th>\n",
       "      <th>ciudad</th>\n",
       "      <th>cod_postal</th>\n",
       "      <th>dormitorios</th>\n",
       "      <th>bagnos</th>\n",
       "      <th>sup_ft2</th>\n",
       "      <th>tipo</th>\n",
       "      <th>fecha_venta</th>\n",
       "      <th>precio</th>\n",
       "      <th>lat</th>\n",
       "      <th>lon</th>\n",
       "    </tr>\n",
       "  </thead>\n",
       "  <tbody>\n",
       "    <tr>\n",
       "      <th>0</th>\n",
       "      <td>3526 HIGH ST</td>\n",
       "      <td>SACRAMENTO</td>\n",
       "      <td>95838</td>\n",
       "      <td>2</td>\n",
       "      <td>1</td>\n",
       "      <td>836</td>\n",
       "      <td>Residential</td>\n",
       "      <td>Wed May 21 00:00:00 EDT 2008</td>\n",
       "      <td>59222</td>\n",
       "      <td>38.631913</td>\n",
       "      <td>-121.434879</td>\n",
       "    </tr>\n",
       "    <tr>\n",
       "      <th>1</th>\n",
       "      <td>51 OMAHA CT</td>\n",
       "      <td>SACRAMENTO</td>\n",
       "      <td>95823</td>\n",
       "      <td>3</td>\n",
       "      <td>1</td>\n",
       "      <td>1167</td>\n",
       "      <td>Residential</td>\n",
       "      <td>Wed May 21 00:00:00 EDT 2008</td>\n",
       "      <td>68212</td>\n",
       "      <td>38.478902</td>\n",
       "      <td>-121.431028</td>\n",
       "    </tr>\n",
       "    <tr>\n",
       "      <th>2</th>\n",
       "      <td>2796 BRANCH ST</td>\n",
       "      <td>SACRAMENTO</td>\n",
       "      <td>95815</td>\n",
       "      <td>2</td>\n",
       "      <td>1</td>\n",
       "      <td>796</td>\n",
       "      <td>Residential</td>\n",
       "      <td>Wed May 21 00:00:00 EDT 2008</td>\n",
       "      <td>68880</td>\n",
       "      <td>38.618305</td>\n",
       "      <td>-121.443839</td>\n",
       "    </tr>\n",
       "    <tr>\n",
       "      <th>3</th>\n",
       "      <td>2805 JANETTE WAY</td>\n",
       "      <td>SACRAMENTO</td>\n",
       "      <td>95815</td>\n",
       "      <td>2</td>\n",
       "      <td>1</td>\n",
       "      <td>852</td>\n",
       "      <td>Residential</td>\n",
       "      <td>Wed May 21 00:00:00 EDT 2008</td>\n",
       "      <td>69307</td>\n",
       "      <td>38.616835</td>\n",
       "      <td>-121.439146</td>\n",
       "    </tr>\n",
       "    <tr>\n",
       "      <th>4</th>\n",
       "      <td>6001 MCMAHON DR</td>\n",
       "      <td>SACRAMENTO</td>\n",
       "      <td>95824</td>\n",
       "      <td>2</td>\n",
       "      <td>1</td>\n",
       "      <td>797</td>\n",
       "      <td>Residential</td>\n",
       "      <td>Wed May 21 00:00:00 EDT 2008</td>\n",
       "      <td>81900</td>\n",
       "      <td>38.519470</td>\n",
       "      <td>-121.435768</td>\n",
       "    </tr>\n",
       "    <tr>\n",
       "      <th>...</th>\n",
       "      <td>...</td>\n",
       "      <td>...</td>\n",
       "      <td>...</td>\n",
       "      <td>...</td>\n",
       "      <td>...</td>\n",
       "      <td>...</td>\n",
       "      <td>...</td>\n",
       "      <td>...</td>\n",
       "      <td>...</td>\n",
       "      <td>...</td>\n",
       "      <td>...</td>\n",
       "    </tr>\n",
       "    <tr>\n",
       "      <th>980</th>\n",
       "      <td>9169 GARLINGTON CT</td>\n",
       "      <td>SACRAMENTO</td>\n",
       "      <td>95829</td>\n",
       "      <td>4</td>\n",
       "      <td>3</td>\n",
       "      <td>2280</td>\n",
       "      <td>Residential</td>\n",
       "      <td>Thu May 15 00:00:00 EDT 2008</td>\n",
       "      <td>232425</td>\n",
       "      <td>38.457679</td>\n",
       "      <td>-121.359620</td>\n",
       "    </tr>\n",
       "    <tr>\n",
       "      <th>981</th>\n",
       "      <td>6932 RUSKUT WAY</td>\n",
       "      <td>SACRAMENTO</td>\n",
       "      <td>95823</td>\n",
       "      <td>3</td>\n",
       "      <td>2</td>\n",
       "      <td>1477</td>\n",
       "      <td>Residential</td>\n",
       "      <td>Thu May 15 00:00:00 EDT 2008</td>\n",
       "      <td>234000</td>\n",
       "      <td>38.499893</td>\n",
       "      <td>-121.458890</td>\n",
       "    </tr>\n",
       "    <tr>\n",
       "      <th>982</th>\n",
       "      <td>7933 DAFFODIL WAY</td>\n",
       "      <td>CITRUS HEIGHTS</td>\n",
       "      <td>95610</td>\n",
       "      <td>3</td>\n",
       "      <td>2</td>\n",
       "      <td>1216</td>\n",
       "      <td>Residential</td>\n",
       "      <td>Thu May 15 00:00:00 EDT 2008</td>\n",
       "      <td>235000</td>\n",
       "      <td>38.708824</td>\n",
       "      <td>-121.256803</td>\n",
       "    </tr>\n",
       "    <tr>\n",
       "      <th>983</th>\n",
       "      <td>8304 RED FOX WAY</td>\n",
       "      <td>ELK GROVE</td>\n",
       "      <td>95758</td>\n",
       "      <td>4</td>\n",
       "      <td>2</td>\n",
       "      <td>1685</td>\n",
       "      <td>Residential</td>\n",
       "      <td>Thu May 15 00:00:00 EDT 2008</td>\n",
       "      <td>235301</td>\n",
       "      <td>38.417000</td>\n",
       "      <td>-121.397424</td>\n",
       "    </tr>\n",
       "    <tr>\n",
       "      <th>984</th>\n",
       "      <td>3882 YELLOWSTONE LN</td>\n",
       "      <td>EL DORADO HILLS</td>\n",
       "      <td>95762</td>\n",
       "      <td>3</td>\n",
       "      <td>2</td>\n",
       "      <td>1362</td>\n",
       "      <td>Residential</td>\n",
       "      <td>Thu May 15 00:00:00 EDT 2008</td>\n",
       "      <td>235738</td>\n",
       "      <td>38.655245</td>\n",
       "      <td>-121.075915</td>\n",
       "    </tr>\n",
       "  </tbody>\n",
       "</table>\n",
       "<p>985 rows × 11 columns</p>\n",
       "</div>"
      ],
      "text/plain": [
       "                   calle           ciudad  cod_postal  dormitorios  bagnos  \\\n",
       "0           3526 HIGH ST       SACRAMENTO       95838            2       1   \n",
       "1            51 OMAHA CT       SACRAMENTO       95823            3       1   \n",
       "2         2796 BRANCH ST       SACRAMENTO       95815            2       1   \n",
       "3       2805 JANETTE WAY       SACRAMENTO       95815            2       1   \n",
       "4        6001 MCMAHON DR       SACRAMENTO       95824            2       1   \n",
       "..                   ...              ...         ...          ...     ...   \n",
       "980   9169 GARLINGTON CT       SACRAMENTO       95829            4       3   \n",
       "981      6932 RUSKUT WAY       SACRAMENTO       95823            3       2   \n",
       "982    7933 DAFFODIL WAY   CITRUS HEIGHTS       95610            3       2   \n",
       "983     8304 RED FOX WAY        ELK GROVE       95758            4       2   \n",
       "984  3882 YELLOWSTONE LN  EL DORADO HILLS       95762            3       2   \n",
       "\n",
       "     sup_ft2         tipo                   fecha_venta  precio        lat  \\\n",
       "0        836  Residential  Wed May 21 00:00:00 EDT 2008   59222  38.631913   \n",
       "1       1167  Residential  Wed May 21 00:00:00 EDT 2008   68212  38.478902   \n",
       "2        796  Residential  Wed May 21 00:00:00 EDT 2008   68880  38.618305   \n",
       "3        852  Residential  Wed May 21 00:00:00 EDT 2008   69307  38.616835   \n",
       "4        797  Residential  Wed May 21 00:00:00 EDT 2008   81900  38.519470   \n",
       "..       ...          ...                           ...     ...        ...   \n",
       "980     2280  Residential  Thu May 15 00:00:00 EDT 2008  232425  38.457679   \n",
       "981     1477  Residential  Thu May 15 00:00:00 EDT 2008  234000  38.499893   \n",
       "982     1216  Residential  Thu May 15 00:00:00 EDT 2008  235000  38.708824   \n",
       "983     1685  Residential  Thu May 15 00:00:00 EDT 2008  235301  38.417000   \n",
       "984     1362  Residential  Thu May 15 00:00:00 EDT 2008  235738  38.655245   \n",
       "\n",
       "            lon  \n",
       "0   -121.434879  \n",
       "1   -121.431028  \n",
       "2   -121.443839  \n",
       "3   -121.439146  \n",
       "4   -121.435768  \n",
       "..          ...  \n",
       "980 -121.359620  \n",
       "981 -121.458890  \n",
       "982 -121.256803  \n",
       "983 -121.397424  \n",
       "984 -121.075915  \n",
       "\n",
       "[985 rows x 11 columns]"
      ]
     },
     "metadata": {},
     "output_type": "display_data"
    },
    {
     "name": "stdout",
     "output_type": "stream",
     "text": [
      "(985, 11)\n"
     ]
    }
   ],
   "source": [
    "# Cargar y visualizar dataset\n",
    "dataux = pd.read_csv('Sacramentorealestatetransactions.csv')\n",
    "print ('Todos los registros perteneces al mismo \"state\": California')\n",
    "dataux.drop('state', axis=1, inplace=True)\n",
    "columnas = ['calle', 'ciudad', 'cod_postal', 'dormitorios', 'bagnos', 'sup_ft2', 'tipo', 'fecha_venta', 'precio', 'lat', 'lon']\n",
    "dataux.columns = columnas\n",
    "display (dataux)\n",
    "print (dataux.shape)\n",
    "\n",
    "# Eliminación de outlier\n",
    "dataux.drop(dataux[dataux.tipo == 'Unkown'].index, inplace=True)"
   ]
  },
  {
   "cell_type": "code",
   "execution_count": 4,
   "id": "4e34444b",
   "metadata": {},
   "outputs": [
    {
     "data": {
      "text/plain": [
       "Residential     917\n",
       "Condo            54\n",
       "Multi-Family     13\n",
       "Name: tipo, dtype: int64"
      ]
     },
     "execution_count": 4,
     "metadata": {},
     "output_type": "execute_result"
    }
   ],
   "source": [
    "# Primera clase \n",
    "dataux['tipo'].value_counts()"
   ]
  },
  {
   "cell_type": "code",
   "execution_count": 5,
   "id": "4e601813",
   "metadata": {},
   "outputs": [
    {
     "data": {
      "image/png": "[encoded data removed]",
      "text/plain": [
       "<Figure size 504x432 with 1 Axes>"
      ]
     },
     "metadata": {
      "needs_background": "light"
     },
     "output_type": "display_data"
    }
   ],
   "source": [
    "# Visualización 1\n",
    "plt.figure(figsize=(7,6))\n",
    "sns.scatterplot(data=dataux, x='lat', y='lon', hue='ciudad', legend=False).set(title='Categorización por ciudades')\n",
    "plt.suptitle('Visualización geográfica de los registros', y=0.96);"
   ]
  },
  {
   "cell_type": "code",
   "execution_count": 6,
   "id": "5faa38be",
   "metadata": {},
   "outputs": [],
   "source": [
    "logger.warning('Se crea la funcion: from_sq_ft_to_m2')"
   ]
  },
  {
   "cell_type": "code",
   "execution_count": 7,
   "id": "a659a8c2",
   "metadata": {},
   "outputs": [],
   "source": [
    "def from_sq_ft_to_m2(serie):\n",
    "    \"\"\"\n",
    "    divide el valor de Área entre 10.764\n",
    "    \"\"\"\n",
    "    return serie/10.764"
   ]
  },
  {
   "cell_type": "code",
   "execution_count": 8,
   "id": "d23f4dc2",
   "metadata": {},
   "outputs": [],
   "source": [
    "dataux['sup_m2'] = from_sq_ft_to_m2(dataux.sup_ft2)\n",
    "dataux.drop('sup_ft2', axis=1, inplace=True)\n",
    "columnas[5] = 'sup_m2'\n",
    "dataux = dataux.reindex(columnas, axis=1)"
   ]
  },
  {
   "cell_type": "code",
   "execution_count": 9,
   "id": "948336b6",
   "metadata": {},
   "outputs": [
    {
     "name": "stderr",
     "output_type": "stream",
     "text": [
      "C:\\Users\\aguST\\anaconda3\\envs\\dhdsblend2021\\lib\\site-packages\\dateutil\\parser\\_parser.py:1207: UnknownTimezoneWarning: tzname EDT identified but not understood.  Pass `tzinfos` argument in order to correctly return a timezone-aware datetime.  In a future version, this will raise an exception.\n",
      "  warnings.warn(\"tzname {tzname} identified but not understood.  \"\n"
     ]
    },
    {
     "data": {
      "text/plain": [
       "2008-05-19    268\n",
       "2008-05-16    263\n",
       "2008-05-20    177\n",
       "2008-05-21    158\n",
       "2008-05-15    118\n",
       "Name: fecha_venta, dtype: int64"
      ]
     },
     "execution_count": 9,
     "metadata": {},
     "output_type": "execute_result"
    }
   ],
   "source": [
    "dataux.dtypes\n",
    "pd.to_datetime(dataux.fecha_venta).value_counts()"
   ]
  },
  {
   "cell_type": "code",
   "execution_count": 10,
   "id": "859d5ab5",
   "metadata": {},
   "outputs": [
    {
     "data": {
      "text/plain": [
       "0      Wed May 21 00:00:00 EDT 2008\n",
       "1      Wed May 21 00:00:00 EDT 2008\n",
       "2      Wed May 21 00:00:00 EDT 2008\n",
       "3      Wed May 21 00:00:00 EDT 2008\n",
       "4      Wed May 21 00:00:00 EDT 2008\n",
       "                   ...             \n",
       "980    Thu May 15 00:00:00 EDT 2008\n",
       "981    Thu May 15 00:00:00 EDT 2008\n",
       "982    Thu May 15 00:00:00 EDT 2008\n",
       "983    Thu May 15 00:00:00 EDT 2008\n",
       "984    Thu May 15 00:00:00 EDT 2008\n",
       "Name: fecha_venta, Length: 984, dtype: object"
      ]
     },
     "execution_count": 10,
     "metadata": {},
     "output_type": "execute_result"
    }
   ],
   "source": [
    "dataux.fecha_venta"
   ]
  },
  {
   "cell_type": "code",
   "execution_count": 11,
   "id": "ca3c0bf6",
   "metadata": {},
   "outputs": [],
   "source": [
    "logger.critical('Celda 11: No encuentro mucho valor en este dataset')"
   ]
  },
  {
   "cell_type": "markdown",
   "id": "ff84bbf7",
   "metadata": {},
   "source": [
    "-----------\n",
    "&nbsp;&nbsp;&nbsp;&nbsp;&nbsp;&nbsp;&nbsp;&nbsp;&nbsp;&nbsp;&nbsp;&nbsp;&nbsp;&nbsp;&nbsp;&nbsp;&nbsp;&nbsp;&nbsp;&nbsp;&nbsp;&nbsp;&nbsp;&nbsp;&nbsp;&nbsp;&nbsp;&nbsp;&nbsp;&nbsp;&nbsp;&nbsp;&nbsp;&nbsp;&nbsp;&nbsp;&nbsp;&nbsp;&nbsp;&nbsp;&nbsp;&nbsp;&nbsp;&nbsp;&nbsp;&nbsp;&nbsp;&nbsp;&nbsp;&nbsp;&nbsp;&nbsp;&nbsp;&nbsp;&nbsp;&nbsp;&nbsp;&nbsp;&nbsp;&nbsp;&nbsp;&nbsp;&nbsp;&nbsp;&nbsp;&nbsp;&nbsp;&nbsp;&nbsp;&nbsp;&nbsp;&nbsp;&nbsp;&nbsp;&nbsp;&nbsp;&nbsp;&nbsp;&nbsp;&nbsp;&nbsp;&nbsp;&nbsp;&nbsp;&nbsp;&nbsp;&nbsp;&nbsp;&nbsp;&nbsp;&nbsp;&nbsp;&nbsp;&nbsp;&nbsp;&nbsp;&nbsp;&nbsp;&nbsp;&nbsp;&nbsp;&nbsp;&nbsp;&nbsp;&nbsp;&nbsp;&nbsp;&nbsp;&nbsp;&nbsp;&nbsp;&nbsp;&nbsp;&nbsp;&nbsp;&nbsp;&nbsp;&nbsp;&nbsp;&nbsp;&nbsp;&nbsp;&nbsp;&nbsp;&nbsp;&nbsp;&nbsp;&nbsp;&nbsp;&nbsp;&nbsp;&nbsp;&nbsp;&nbsp;&nbsp;&nbsp;&nbsp;&nbsp;<u>**INTENTO 2**</u>\n",
    "\n",
    "---------"
   ]
  },
  {
   "cell_type": "code",
   "execution_count": 12,
   "id": "428d480f",
   "metadata": {},
   "outputs": [],
   "source": [
    "logger.info('Se carga dataux')"
   ]
  },
  {
   "cell_type": "code",
   "execution_count": 13,
   "id": "3f1589da",
   "metadata": {},
   "outputs": [
    {
     "data": {
      "text/html": [
       "<div>\n",
       "<style scoped>\n",
       "    .dataframe tbody tr th:only-of-type {\n",
       "        vertical-align: middle;\n",
       "    }\n",
       "\n",
       "    .dataframe tbody tr th {\n",
       "        vertical-align: top;\n",
       "    }\n",
       "\n",
       "    .dataframe thead th {\n",
       "        text-align: right;\n",
       "    }\n",
       "</style>\n",
       "<table border=\"1\" class=\"dataframe\">\n",
       "  <thead>\n",
       "    <tr style=\"text-align: right;\">\n",
       "      <th></th>\n",
       "      <th>date</th>\n",
       "      <th>customer_id</th>\n",
       "      <th>item_id</th>\n",
       "      <th>quantity</th>\n",
       "      <th>selling_price</th>\n",
       "      <th>other_discount</th>\n",
       "      <th>coupon_discount</th>\n",
       "    </tr>\n",
       "  </thead>\n",
       "  <tbody>\n",
       "    <tr>\n",
       "      <th>0</th>\n",
       "      <td>2012-01-02</td>\n",
       "      <td>1501</td>\n",
       "      <td>26830</td>\n",
       "      <td>1</td>\n",
       "      <td>35.26</td>\n",
       "      <td>-10.69</td>\n",
       "      <td>0.0</td>\n",
       "    </tr>\n",
       "    <tr>\n",
       "      <th>1</th>\n",
       "      <td>2012-01-02</td>\n",
       "      <td>1501</td>\n",
       "      <td>54253</td>\n",
       "      <td>1</td>\n",
       "      <td>53.43</td>\n",
       "      <td>-13.89</td>\n",
       "      <td>0.0</td>\n",
       "    </tr>\n",
       "    <tr>\n",
       "      <th>2</th>\n",
       "      <td>2012-01-02</td>\n",
       "      <td>1501</td>\n",
       "      <td>31962</td>\n",
       "      <td>1</td>\n",
       "      <td>106.50</td>\n",
       "      <td>-14.25</td>\n",
       "      <td>0.0</td>\n",
       "    </tr>\n",
       "    <tr>\n",
       "      <th>3</th>\n",
       "      <td>2012-01-02</td>\n",
       "      <td>1501</td>\n",
       "      <td>33647</td>\n",
       "      <td>1</td>\n",
       "      <td>67.32</td>\n",
       "      <td>0.00</td>\n",
       "      <td>0.0</td>\n",
       "    </tr>\n",
       "    <tr>\n",
       "      <th>4</th>\n",
       "      <td>2012-01-02</td>\n",
       "      <td>1501</td>\n",
       "      <td>48199</td>\n",
       "      <td>1</td>\n",
       "      <td>71.24</td>\n",
       "      <td>-28.14</td>\n",
       "      <td>0.0</td>\n",
       "    </tr>\n",
       "    <tr>\n",
       "      <th>...</th>\n",
       "      <td>...</td>\n",
       "      <td>...</td>\n",
       "      <td>...</td>\n",
       "      <td>...</td>\n",
       "      <td>...</td>\n",
       "      <td>...</td>\n",
       "      <td>...</td>\n",
       "    </tr>\n",
       "    <tr>\n",
       "      <th>1324561</th>\n",
       "      <td>2013-06-30</td>\n",
       "      <td>1129</td>\n",
       "      <td>2777</td>\n",
       "      <td>1</td>\n",
       "      <td>284.60</td>\n",
       "      <td>-71.24</td>\n",
       "      <td>0.0</td>\n",
       "    </tr>\n",
       "    <tr>\n",
       "      <th>1324562</th>\n",
       "      <td>2013-06-30</td>\n",
       "      <td>1129</td>\n",
       "      <td>2953</td>\n",
       "      <td>4</td>\n",
       "      <td>42.74</td>\n",
       "      <td>-28.50</td>\n",
       "      <td>0.0</td>\n",
       "    </tr>\n",
       "    <tr>\n",
       "      <th>1324563</th>\n",
       "      <td>2013-06-30</td>\n",
       "      <td>1129</td>\n",
       "      <td>2971</td>\n",
       "      <td>6</td>\n",
       "      <td>64.12</td>\n",
       "      <td>-42.74</td>\n",
       "      <td>0.0</td>\n",
       "    </tr>\n",
       "    <tr>\n",
       "      <th>1324564</th>\n",
       "      <td>2013-06-30</td>\n",
       "      <td>1129</td>\n",
       "      <td>46984</td>\n",
       "      <td>1</td>\n",
       "      <td>95.82</td>\n",
       "      <td>0.00</td>\n",
       "      <td>0.0</td>\n",
       "    </tr>\n",
       "    <tr>\n",
       "      <th>1324565</th>\n",
       "      <td>2013-06-30</td>\n",
       "      <td>1129</td>\n",
       "      <td>64498</td>\n",
       "      <td>2</td>\n",
       "      <td>489.78</td>\n",
       "      <td>0.00</td>\n",
       "      <td>0.0</td>\n",
       "    </tr>\n",
       "  </tbody>\n",
       "</table>\n",
       "<p>1324566 rows × 7 columns</p>\n",
       "</div>"
      ],
      "text/plain": [
       "               date  customer_id  item_id  quantity  selling_price  \\\n",
       "0        2012-01-02         1501    26830         1          35.26   \n",
       "1        2012-01-02         1501    54253         1          53.43   \n",
       "2        2012-01-02         1501    31962         1         106.50   \n",
       "3        2012-01-02         1501    33647         1          67.32   \n",
       "4        2012-01-02         1501    48199         1          71.24   \n",
       "...             ...          ...      ...       ...            ...   \n",
       "1324561  2013-06-30         1129     2777         1         284.60   \n",
       "1324562  2013-06-30         1129     2953         4          42.74   \n",
       "1324563  2013-06-30         1129     2971         6          64.12   \n",
       "1324564  2013-06-30         1129    46984         1          95.82   \n",
       "1324565  2013-06-30         1129    64498         2         489.78   \n",
       "\n",
       "         other_discount  coupon_discount  \n",
       "0                -10.69              0.0  \n",
       "1                -13.89              0.0  \n",
       "2                -14.25              0.0  \n",
       "3                  0.00              0.0  \n",
       "4                -28.14              0.0  \n",
       "...                 ...              ...  \n",
       "1324561          -71.24              0.0  \n",
       "1324562          -28.50              0.0  \n",
       "1324563          -42.74              0.0  \n",
       "1324564            0.00              0.0  \n",
       "1324565            0.00              0.0  \n",
       "\n",
       "[1324566 rows x 7 columns]"
      ]
     },
     "execution_count": 13,
     "metadata": {},
     "output_type": "execute_result"
    }
   ],
   "source": [
    "dataux = pd.read_csv('customer_transaction_data.csv')\n",
    "dataux"
   ]
  },
  {
   "cell_type": "code",
   "execution_count": 14,
   "id": "e10d9fc1",
   "metadata": {},
   "outputs": [],
   "source": [
    "logger.error('Descarga visualizacion: histo_1.png, requiere trabajo exploratorio y explicativo, por cuestiones de procesamiento se debe comentar la línea')"
   ]
  },
  {
   "cell_type": "code",
   "execution_count": 15,
   "id": "ee3576f9",
   "metadata": {},
   "outputs": [
    {
     "data": {
      "image/png": "[encoded data removed]",
      "text/plain": [
       "<Figure size 1584x360 with 1 Axes>"
      ]
     },
     "metadata": {
      "needs_background": "light"
     },
     "output_type": "display_data"
    }
   ],
   "source": [
    "# EXPLORACION_1\n",
    "dataux.customer_id.value_counts()# Existen 1582 clientes distintos que podemos categorizar\n",
    "dataux.item_id.value_counts()# Existen 74063 items en venta\n",
    "##dataux.quantity.plot.hist(xlim=(0,10), bins=50000)# hay ventas hasta por 80.000 unidades-la parte visible es hasta 20.000-hay una abrupta diferencia a partir de 10.000-hay una abrupta diferencia a partir de 1000- hay una abrupta diferencia a partir de 100-hay una abrupta diferencia a partir de 10\n",
    "plt.figure(figsize=(22,5))\n",
    "sns.boxplot(x=dataux.selling_price)#.set(xlim=(-10,2000)) ## el50% de las ventas están entre 0 y 250, trabajar escalas y valores sobre los ejes\n",
    "\n",
    "\"\"\"\n",
    "'other discount' y 'coupon_discount' se saltea la exploración\n",
    "\"\"\";"
   ]
  },
  {
   "cell_type": "markdown",
   "id": "5bcf31cf",
   "metadata": {},
   "source": [
    "----------------------"
   ]
  },
  {
   "cell_type": "code",
   "execution_count": 16,
   "id": "94546de1",
   "metadata": {},
   "outputs": [],
   "source": [
    "logger.info('Arranca toma de apuntes de las notebooks de clase')"
   ]
  },
  {
   "cell_type": "code",
   "execution_count": 17,
   "id": "d7e7d483",
   "metadata": {},
   "outputs": [
    {
     "name": "stdout",
     "output_type": "stream",
     "text": [
      "CLASE_36_Ensemble\n"
     ]
    }
   ],
   "source": [
    "print ('CLASE_36_Ensemble')\n",
    "\n",
    "\"\"\"\n",
    "Notebook: checkpoint\n",
    "==========================================================================================================================\n",
    "*Ejercicio 7\n",
    "\n",
    "Escribir una funcion \"predict_assemble\" que calcule el valor de la etiqueta como la moda de las respuestas de los predictores base\n",
    "Evaluar la performance del ensamble mediante \"accuracy\", \"matriz de confusion\"\n",
    "\n",
    "Ejercicio 8\n",
    "\n",
    "¿Cómo es la performance del modelo de ensamble respecto de la obtenida en los modelos base?\n",
    "¿Mejora usando dos modelos en el ensable? ¿que modelos usarían?\n",
    "==========================================================================================================================\n",
    "\n",
    "\n",
    "Notebook: desafío\n",
    "==========================================================================================================================\n",
    "Ejercicio 4\n",
    "\n",
    "Entrenar un modelo Naive Bayes y evaluar su performance en test mediante AUC. (Hay un sklearn.graph que vimos con Fer en la clase no me acuerdo)\n",
    "\n",
    "Ejercicio 5\n",
    "\n",
    "Entrenar un modelo KNN y evaluar su performance en test mediante AUC.\n",
    "\n",
    "Ejercicio 6\n",
    "\n",
    "Entrenar un arbol de clasificación y evaluar su performance mediante la matriz de confusion\n",
    "\n",
    "*Ejercicio 7\n",
    "\n",
    "Construir un modelo de ensamble usando como modelos base los 3 modelos anteriores\n",
    "Escribir una funcion \"predit_proba_assemble\" que calcule la probabilidad de 1 como el promedio de las probabilidades respuesta de los predictores base\n",
    "Evaluar la performance del ensamble (usando umbral 0.5) mediante: AUC, accuracy, matriz de confusion\n",
    "Comparar los resultados obtenidos con el ejercicio 7 del checkpoint.\n",
    "\n",
    "Opcional\n",
    "\n",
    "¿Pueden mejorar el valor de accuracy del ensamble usando otro valor (distinto a 0.5) para el umbral?\n",
    "¿Qué pasa con la matriz de confusion cuando mejora el valor de accuracy?\n",
    "Pueden hacer un ciclo for con distintos valores de threshold, o usar curvas ROC pra responder\n",
    "\"\"\";"
   ]
  },
  {
   "cell_type": "code",
   "execution_count": 18,
   "id": "f4f33c52",
   "metadata": {},
   "outputs": [
    {
     "name": "stdout",
     "output_type": "stream",
     "text": [
      "CLASE_37_Bagging_RandomFores\n"
     ]
    }
   ],
   "source": [
    "print ('CLASE_37_Bagging_RandomFores')\n",
    "\n",
    "\"\"\"\n",
    "Notebook: desafio\n",
    "==========================================================================================================================\n",
    "Ejercicio 5\n",
    "Realizar un countplot(), para analizar la cantidad de casos\n",
    "Hacer un pairplot(), para ver como se relacionan las variables (recordar data.sample(frac=0.1))\n",
    "\n",
    "¿Existe alguan feature, o par de features, que por sí solos sean buenos para predecir, si ocurre uno u otro caso? (Si existe correlaciones, tratar de cuantificarlas)\n",
    "(Recordar sns.heatmap())\n",
    "(Queda pendiente ver \"Datos de entrenamiento y casos benchmark\")\n",
    "\n",
    "2. Bagging\n",
    "6\n",
    "Grafico clasificador sesgado\n",
    "\n",
    "3. RandomForest\n",
    "4\n",
    "oob_score_, feature_importances_, \n",
    "estimators_\n",
    "\n",
    "7\n",
    "graficar la curva de validacion/complejidad para un modelo de random forest en funcion de estimadores. No usamos CV porque puede llevar bastante tiempo\n",
    "\n",
    "8\n",
    "Hacer y graficar la curva de aprendizaje para un modelo de x estimadores.\n",
    "\n",
    "9\n",
    "Si usamos 2 features podemos graficar las fronteras de decision\n",
    "\n",
    "Para pensar: ¿qué otras métricas utilizarían para evuluar estos modelos, dadas las características particulares del problema? Comparar con los casos de benchmark que hicieron\n",
    "\"\"\";"
   ]
  },
  {
   "cell_type": "code",
   "execution_count": 19,
   "id": "27b99998",
   "metadata": {},
   "outputs": [
    {
     "name": "stdout",
     "output_type": "stream",
     "text": [
      "CLASE_38_Boosting_XGBoost\n"
     ]
    }
   ],
   "source": [
    "print ('CLASE_38_Boosting_XGBoost')\n",
    "\n",
    "\"\"\"\n",
    "Notebook: Boosting_teorico\n",
    "==========================================================================================================================\n",
    "(Al final de la notebook hay una celda que te habilita a ver un video de youtube sobre curvas ROC que esta muy bueno)\n",
    "==========================================================================================================================\n",
    "\n",
    "\n",
    "Notebook: Boosting_practico\n",
    "==========================================================================================================================\n",
    "Esta vez vamos a codificar los atributos usando un esquema One Hot, es decir, los consideramos como variables categoricas.\n",
    "Tambien vamos a codificar la variable target usando el LabelEncoder()\n",
    "\n",
    "*2. Comparando la performance de los arboles de decision y boosting\n",
    "Para comparar los diferentes algoritmos armamos la funcion \"evaluar_rendimiento\", que toma como argumento un estimador y un string con el nombre que le queremos poner, y ejecuta un cross_val_score\n",
    "(probamos ADABoost, Gradient_Boosting, calculamos valor AUC, y el grafico ROC- Fer acá está skickitplot.metrics import plot_roc\n",
    "Finalmente graficamos la importancia relativa de los features de prediccion\n",
    "\n",
    "#recordar que np.argsort() nos devuelve un vector con indices del vector original tal que este quede reordenado e mayor a menor\n",
    "==========================================================================================================================\n",
    "\n",
    "\n",
    "Notebook: Checkpoint\n",
    "==========================================================================================================================\n",
    "(Al comienzo de la notebook estan los índices que podemos utilizar para medir el performance de la empresa en el tiempo)\n",
    "\n",
    "Ejercicio 2\n",
    "\n",
    "Realizar un split en train_test_split con test_size = 0.2 (20%)\n",
    "\n",
    "Ejercicio 5\n",
    "\n",
    "Evaluar el rendimiento del estimador optimo, utilizando cross validation, pasarle como argumento cv el generador de CV splits creador en el punto 3\n",
    "nota: ver funcion \"evaluar_rendimiento()\" utilizada en la notebook \"Boosting_practico\"\n",
    "\n",
    "Ejercicio 6\n",
    "\n",
    "Determinar el valor de ROC\n",
    "\n",
    "Ejercicio 7\n",
    "\n",
    "Utilizar plot_roc para graficar la curva de ROC\n",
    "\n",
    "BONUS\n",
    "\n",
    "Graficar la importancia de los atributos del estimador optimizado\n",
    "\n",
    "==========================================================================================================================\n",
    "\n",
    "\n",
    "Notebook: desafio\n",
    "==========================================================================================================================\n",
    "(En esta notebook vamos a ver otros dos modelos de boosting que derivan de grandient bossting que son: LightGBM y CatBoost)\n",
    "\n",
    "Estos modelos trabajan sobre la técnica de split\n",
    "\n",
    "(hay un link que te lleva a la comparacion de modelos)\n",
    "\n",
    "(Acá empiezo a notar que muchos modelos comparten entre sí una porción de sus hiperparámetros#, ##esos hiperparámetros se los carga en un diccionario que luego servira para entrenar multiples modelos, y si fuera necesario ampliar la cantidad de hiperparámetros del diccionario para un modelo en particular, se haría a posteriori y con una copia del diccionario original, upgradiado, para no sobreescribir el diccionario base)\n",
    "\n",
    "Bonus\n",
    "\n",
    "graficar la importancia de los atributos del estimador optimizado.\n",
    "nota: LightGBM tiene un propio método para graficar \"plot_importance\"\n",
    "\n",
    "Ejercicio 4:\n",
    "CatBoost\n",
    "==========================================================================================================================\n",
    "\n",
    "\n",
    "Notebook: desafio_opcional\n",
    "==========================================================================================================================\n",
    "AdaBoost\n",
    "\n",
    "Recordemos que este tipo de ensamble se enfoca en mejorar el sesgo de los modelos indivuales a partir de los cuales está construido, por lo cual se suele usar modelos de alto sesgo y baja varianza\n",
    "\n",
    "1\n",
    "definir el estimador debil\n",
    "\n",
    "2\n",
    "Defina el modelo para que la profundidad de los árboles sea 2\n",
    "\n",
    "3\n",
    "Calcule el error\n",
    "\n",
    "4\n",
    "Verificar la distribucion de pesos\n",
    "\n",
    "5\n",
    "Realizar comparativas\n",
    "\n",
    "6\n",
    "Verificar la variacion del error, utilizar un metodo llamado staged_predict\n",
    "\n",
    "7\n",
    "Graficar la frontera de decision del clasificador\n",
    "\n",
    "8\n",
    "Repetir todos los pasos pero aumente la profundida del arbol en 10. Analizar caso\n",
    "\n",
    "\"\"\";"
   ]
  },
  {
   "cell_type": "code",
   "execution_count": null,
   "id": "753c145f",
   "metadata": {},
   "outputs": [],
   "source": []
  },
  {
   "cell_type": "code",
   "execution_count": null,
   "id": "bc5720b8",
   "metadata": {},
   "outputs": [],
   "source": []
  },
  {
   "cell_type": "code",
   "execution_count": null,
   "id": "4a577827",
   "metadata": {},
   "outputs": [],
   "source": []
  },
  {
   "cell_type": "code",
   "execution_count": null,
   "id": "da53adef",
   "metadata": {},
   "outputs": [],
   "source": []
  },
  {
   "cell_type": "code",
   "execution_count": null,
   "id": "f7955393",
   "metadata": {},
   "outputs": [],
   "source": []
  },
  {
   "cell_type": "code",
   "execution_count": null,
   "id": "4e15cec3",
   "metadata": {},
   "outputs": [],
   "source": []
  },
  {
   "cell_type": "code",
   "execution_count": null,
   "id": "2b15eb5c",
   "metadata": {},
   "outputs": [],
   "source": []
  },
  {
   "cell_type": "code",
   "execution_count": null,
   "id": "711e6b05",
   "metadata": {},
   "outputs": [],
   "source": []
  },
  {
   "cell_type": "code",
   "execution_count": null,
   "id": "8b3826c1",
   "metadata": {},
   "outputs": [],
   "source": []
  },
  {
   "cell_type": "code",
   "execution_count": null,
   "id": "6cb5f2b6",
   "metadata": {},
   "outputs": [],
   "source": []
  },
  {
   "cell_type": "code",
   "execution_count": null,
   "id": "4ff95913",
   "metadata": {},
   "outputs": [],
   "source": []
  },
  {
   "cell_type": "code",
   "execution_count": null,
   "id": "3a66dffd",
   "metadata": {},
   "outputs": [],
   "source": []
  },
  {
   "cell_type": "code",
   "execution_count": null,
   "id": "cf3ac827",
   "metadata": {},
   "outputs": [],
   "source": []
  },
  {
   "cell_type": "code",
   "execution_count": null,
   "id": "81a0805c",
   "metadata": {},
   "outputs": [],
   "source": []
  },
  {
   "cell_type": "code",
   "execution_count": null,
   "id": "5f59135d",
   "metadata": {},
   "outputs": [],
   "source": []
  },
  {
   "cell_type": "code",
   "execution_count": null,
   "id": "e5c68a05",
   "metadata": {},
   "outputs": [],
   "source": []
  },
  {
   "cell_type": "code",
   "execution_count": null,
   "id": "b4ce2b66",
   "metadata": {},
   "outputs": [],
   "source": []
  },
  {
   "cell_type": "code",
   "execution_count": null,
   "id": "67fb562a",
   "metadata": {},
   "outputs": [],
   "source": []
  },
  {
   "cell_type": "code",
   "execution_count": null,
   "id": "d17d7f5b",
   "metadata": {},
   "outputs": [],
   "source": []
  },
  {
   "cell_type": "code",
   "execution_count": null,
   "id": "e6ffba68",
   "metadata": {},
   "outputs": [],
   "source": []
  }
 ],
 "metadata": {
  "kernelspec": {
   "display_name": "Python [conda env:dhdsblend2021] *",
   "language": "python",
   "name": "conda-env-dhdsblend2021-py"
  },
  "language_info": {
   "codemirror_mode": {
    "name": "ipython",
    "version": 3
   },
   "file_extension": ".py",
   "mimetype": "text/x-python",
   "name": "python",
   "nbconvert_exporter": "python",
   "pygments_lexer": "ipython3",
   "version": "3.8.12"
  }
 },
 "nbformat": 4,
 "nbformat_minor": 5
}
