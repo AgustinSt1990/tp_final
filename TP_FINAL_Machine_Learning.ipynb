{
 "cells": [
  {
   "cell_type": "markdown",
   "metadata": {},
   "source": [
    "ESTA CELDA ESTA EN BLANCO"
   ]
  },
  {
   "cell_type": "code",
   "execution_count": 1,
   "metadata": {},
   "outputs": [
    {
     "name": "stdout",
     "output_type": "stream",
     "text": [
      "Libreria SmartSeries: Clases: VectorBuilder() - Funciones: load_dataset\n",
      "APP REG_LOG_EST: APLICACION PARA ENTRENAR Y EXPORTAR UN MODELO DE REGRESION LINEAL CON TRANSFORMACION LOGARITMICA APLICANDO ESTACIONALIDAD\n",
      "APP ARIMA: Recibe una serie, y aplica logaritmo, 3 procesos de diferenciacion y un proceso de optimización, luego grafica para visualizar resultados y seleccionar parámetros ARIMA\n",
      "TP FINAL: APLICACION XGBOOST PARA TIME SERIES FORECASTING\n",
      "\n",
      "xgboost actual 1.6.1\n",
      "9/6/2022\n",
      "\txgboost version: 1.5.0\n",
      "14/6/2022\n",
      "\txgboost version: 1.6.0\n"
     ]
    }
   ],
   "source": [
    "import SmartPandas, SmartSeries\n",
    "import APP_REG_LOG_EST as reg\n",
    "import APP_ARIMA as arima\n",
    "import APP_XGBOOST as xgb\n",
    "\n",
    "import numpy as np\n",
    "import pandas as pd\n",
    "import matplotlib.pyplot as plt\n",
    "%matplotlib inline\n",
    "\n",
    "import sklearn.metrics as metrics\n",
    "from sklearn.metrics import mean_squared_error\n",
    "from sklearn.model_selection import train_test_split\n",
    "\n",
    "import pickle\n",
    "\n",
    "import logging\n",
    "import datetime as dt\n",
    "formatter = '%(levelname)s:\\n %(message)s | %(asctime)s\\n| line %(lineno)d\\n'\n",
    "logging.basicConfig(filename='logfile_Machine_learning.log', level=logging.INFO, force=True, filemode='w', **{'format':formatter})\n",
    "logger = logging.getLogger()"
   ]
  },
  {
   "cell_type": "code",
   "execution_count": 2,
   "metadata": {},
   "outputs": [
    {
     "data": {
      "text/plain": [
       "<module 'logging' from 'c:\\\\Users\\\\aguST\\\\AppData\\\\Local\\\\Programs\\\\Python\\\\Python310\\\\lib\\\\logging\\\\__init__.py'>"
      ]
     },
     "execution_count": 2,
     "metadata": {},
     "output_type": "execute_result"
    }
   ],
   "source": []
  },
  {
   "cell_type": "code",
   "execution_count": null,
   "metadata": {},
   "outputs": [],
   "source": []
  }
 ],
 "metadata": {
  "kernelspec": {
   "display_name": "Python 3.10.2 64-bit",
   "language": "python",
   "name": "python3"
  },
  "language_info": {
   "codemirror_mode": {
    "name": "ipython",
    "version": 3
   },
   "file_extension": ".py",
   "mimetype": "text/x-python",
   "name": "python",
   "nbconvert_exporter": "python",
   "pygments_lexer": "ipython3",
   "version": "3.10.2"
  },
  "orig_nbformat": 4,
  "vscode": {
   "interpreter": {
    "hash": "4a8ad0719fb4c7e694a659c43e490ed667120cd373b1de1407c37b4b29da83d3"
   }
  }
 },
 "nbformat": 4,
 "nbformat_minor": 2
}
